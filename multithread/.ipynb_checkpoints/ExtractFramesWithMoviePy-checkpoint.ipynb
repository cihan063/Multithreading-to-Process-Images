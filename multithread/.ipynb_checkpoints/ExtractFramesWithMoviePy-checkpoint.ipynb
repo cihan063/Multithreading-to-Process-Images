{
 "cells": [
  {
   "cell_type": "markdown",
   "metadata": {},
   "source": [
    "## Extract Frames from Video with MoviePy "
   ]
  },
  {
   "cell_type": "code",
   "execution_count": 10,
   "metadata": {},
   "outputs": [],
   "source": [
    "import numpy as np\n",
    "import pandas as pd\n",
    "import moviepy\n",
    "from moviepy.editor import *\n",
    "import threading\n",
    "import time"
   ]
  },
  {
   "cell_type": "code",
   "execution_count": 11,
   "metadata": {},
   "outputs": [],
   "source": [
    "import pytesseract\n",
    "from PIL import Image"
   ]
  },
  {
   "cell_type": "code",
   "execution_count": 12,
   "metadata": {},
   "outputs": [],
   "source": [
    "movie = \"video.mp4\" \n",
    "imgdir = \"frames\""
   ]
  },
  {
   "cell_type": "code",
   "execution_count": 13,
   "metadata": {},
   "outputs": [],
   "source": [
    "def extract_frames1(movie, times1, imgdir):\n",
    "    clip = VideoFileClip(movie)\n",
    "    for t in times1:\n",
    "        imgpath = os.path.join(imgdir, '{}.png'.format(t))\n",
    "        clip.save_frame(imgpath, t)\n",
    "        time.sleep(0.001)\n",
    "        \n",
    "def extract_frames2(movie, times2, imgdir):\n",
    "    clip = VideoFileClip(movie)\n",
    "    for t in times2:\n",
    "        imgpath = os.path.join(imgdir, '{}.png'.format(t))\n",
    "        clip.save_frame(imgpath, t)\n",
    "        time.sleep(0.001)"
   ]
  },
  {
   "cell_type": "code",
   "execution_count": 14,
   "metadata": {},
   "outputs": [],
   "source": [
    "def get_times(start,end):\n",
    "    timelist=[]\n",
    "    t=start\n",
    "    for i in range(start,end):\n",
    "        timelist.append(round(t,1))\n",
    "        t=t+0.1\n",
    "    return timelist\n",
    "\n",
    "        "
   ]
  },
  {
   "cell_type": "code",
   "execution_count": 15,
   "metadata": {},
   "outputs": [],
   "source": [
    "t1= get_times(0,3)\n",
    "t2= get_times(3,6)"
   ]
  },
  {
   "cell_type": "code",
   "execution_count": 16,
   "metadata": {},
   "outputs": [],
   "source": [
    "x = threading.Thread(target=extract_frames1,args=(movie,t1,imgdir))\n",
    "y = threading.Thread(target=extract_frames2,args=(movie,t2,imgdir))\n",
    "x.start()\n",
    "y.start()\n",
    "x.join()\n",
    "y.join()"
   ]
  },
  {
   "cell_type": "code",
   "execution_count": null,
   "metadata": {},
   "outputs": [],
   "source": []
  }
 ],
 "metadata": {
  "kernelspec": {
   "display_name": "Python 3",
   "language": "python",
   "name": "python3"
  },
  "language_info": {
   "codemirror_mode": {
    "name": "ipython",
    "version": 3
   },
   "file_extension": ".py",
   "mimetype": "text/x-python",
   "name": "python",
   "nbconvert_exporter": "python",
   "pygments_lexer": "ipython3",
   "version": "3.8.5"
  }
 },
 "nbformat": 4,
 "nbformat_minor": 4
}
