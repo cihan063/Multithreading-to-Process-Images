{
 "cells": [
  {
   "cell_type": "code",
   "execution_count": 2,
   "metadata": {},
   "outputs": [],
   "source": [
    "imgdir = \"frames\"\n",
    "ocrdir = \"ocrimages\""
   ]
  },
  {
   "cell_type": "code",
   "execution_count": 8,
   "metadata": {},
   "outputs": [],
   "source": [
    "import os\n",
    "import pytesseract\n",
    "from PIL import Image\n",
    "import time"
   ]
  },
  {
   "cell_type": "code",
   "execution_count": 11,
   "metadata": {},
   "outputs": [],
   "source": [
    "#pytesseract.pytesseract.tesseract_cmd = 'C:\\Program Files\\Tesseract-OCR/tesseract.exe'"
   ]
  },
  {
   "cell_type": "code",
   "execution_count": 9,
   "metadata": {},
   "outputs": [],
   "source": [
    "from concurrent.futures import ThreadPoolExecutor\n",
    "\n",
    "def get_ocr1(path,start,end):\n",
    "    text=[]\n",
    "    dirs = os.listdir(path)\n",
    "    for crop in dirs[start:end]:\n",
    "        tmp=pytesseract.image_to_string(Image.open(\"ocrimages/\" + crop))\n",
    "        text.append(tmp)\n",
    "        time.sleep(0.001)\n",
    "    return text\n",
    "\n",
    "def main():\n",
    "    with ThreadPoolExecutor(max_workers=2) as executor:\n",
    "        future1 = executor.submit(get_ocr1, ocrdir,0,25)\n",
    "        future2 = executor.submit(get_ocr1, ocrdir,25,50)        \n",
    "    my_ocrs = future1.result()+future2.result()\n",
    "    return my_ocrs\n",
    "my_ocrs=main()"
   ]
  },
  {
   "cell_type": "code",
   "execution_count": 10,
   "metadata": {},
   "outputs": [
    {
     "data": {
      "text/plain": [
       "['kev ty\\n\\x0c',\n",
       " 'word\\n\\nwe\\n\\x0c',\n",
       " 'LENA\\n\\x0c',\n",
       " 'DULES\\n\\x0c',\n",
       " 'CHEBP! N\\n\\x0c',\n",
       " 'PRENOM: MAK YT | N\\n\\x0c',\n",
       " 'VALENTI WE\\n\\x0c',\n",
       " 'NOM : LORAS\\n\\x0c',\n",
       " '> THIBAULT\\n\\n \\n\\x0c',\n",
       " '\\\\eom AZAGSY\\n\\x0c',\n",
       " '  \\n\\nA\\n\\nGORTC HR KOFE\\n\\x0c',\n",
       " 'MAREN THES RAN\\n\\x0c',\n",
       " 'PRENOM\\n\\n \\n\\x0c',\n",
       " 'TEAWNE\\n\\x0c',\n",
       " ' \\n\\nDEBORAH\\n\\x0c',\n",
       " 'PRoOUES\\n\\n \\n\\x0c',\n",
       " 'PRENOM\\n\\nJode\\ndie ea Kine aries\\n\\x0c',\n",
       " 'CORW\\\\ EL FRERROW\\n\\x0c',\n",
       " '| 3 RENOM : CLEMENT\\n\\x0c',\n",
       " 'PRENOM\\n\\nRELIS\\n\\n \\n\\x0c',\n",
       " 'VAHITZATA FATIM\\n\\x0c',\n",
       " 'NOM\\nFOURWEL\\n\\x0c',\n",
       " 'bred ATIO-IL LESCA\\n\\x0c',\n",
       " ' \\n\\nNom\\nBARDOT\\n\\x0c',\n",
       " ' \\n\\nNOM: DULY AL\\n\\nEen A I ET\\n\\x0c',\n",
       " 'PRENOM: NT ON?\\n\\x0c',\n",
       " ' \\n\\nRENOM: L\\\\ 5 fi\\n\\n   \\n\\x0c',\n",
       " 'PRENOM\\n\\nCELIA\\n\\x0c',\n",
       " 'GRO DZ Kt\\n\\x0c',\n",
       " ' \\n\\x0c',\n",
       " 'PRENOM\\n\\nHugo\\n\\n \\n\\x0c',\n",
       " 'ELOVEN\\n\\x0c',\n",
       " ' \\n\\x0c',\n",
       " ' \\n\\nNOM\\nHOAR AU\\n\\x0c',\n",
       " 'ST EEVKERIS EF\\n\\x0c',\n",
       " 'Da2-fowze\\n\\x0c',\n",
       " '  \\n\\x0c',\n",
       " 'Nom:\\n\\nRONAN\\n\\x0c',\n",
       " 'MILLE\\n\\x0c',\n",
       " 'CAROL IVE\\n\\x0c',\n",
       " 'PRENOM\\n\\nPAUL\\n\\n \\n\\x0c',\n",
       " '  \\n\\nEEN eRe, PRL\\n\\nNOM: BECHARA\\n\\x0c',\n",
       " '  \\n\\x0c',\n",
       " ' \\n\\nIegRENOM: EAN CONE\\n\\x0c',\n",
       " ' \\n\\x0c',\n",
       " 'ctlovl\\n\\ns\\n\\x0c',\n",
       " 'TorRIS\\n\\x0c',\n",
       " 'NARDING\\n\\x0c',\n",
       " ' \\n\\x0c',\n",
       " ' \\n\\nNOM :\\n\\x0c']"
      ]
     },
     "execution_count": 10,
     "metadata": {},
     "output_type": "execute_result"
    }
   ],
   "source": [
    "my_ocrs"
   ]
  },
  {
   "cell_type": "code",
   "execution_count": null,
   "metadata": {},
   "outputs": [],
   "source": []
  }
 ],
 "metadata": {
  "kernelspec": {
   "display_name": "Python 3",
   "language": "python",
   "name": "python3"
  },
  "language_info": {
   "codemirror_mode": {
    "name": "ipython",
    "version": 3
   },
   "file_extension": ".py",
   "mimetype": "text/x-python",
   "name": "python",
   "nbconvert_exporter": "python",
   "pygments_lexer": "ipython3",
   "version": "3.8.5"
  }
 },
 "nbformat": 4,
 "nbformat_minor": 4
}
